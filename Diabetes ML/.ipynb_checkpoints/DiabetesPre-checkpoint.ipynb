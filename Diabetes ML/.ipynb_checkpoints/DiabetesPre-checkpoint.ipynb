{
 "cells": [
  {
   "cell_type": "code",
   "execution_count": 15,
   "id": "3b36b24e",
   "metadata": {},
   "outputs": [
    {
     "name": "stderr",
     "output_type": "stream",
     "text": [
      "C:\\Users\\Praveen\\AppData\\Local\\Temp\\ipykernel_17240\\4184755304.py:20: DataConversionWarning: A column-vector y was passed when a 1d array was expected. Please change the shape of y to (n_samples,), for example using ravel().\n",
      "  svc=model.fit(X_train,Y_train)\n"
     ]
    },
    {
     "name": "stdout",
     "output_type": "stream",
     "text": [
      "0.9757575757575757\n"
     ]
    }
   ],
   "source": [
    "import pickle\n",
    "import os\n",
    "import sys\n",
    "import pandas as pd\n",
    "from sklearn.metrics import accuracy_score\n",
    "from sklearn.model_selection import train_test_split\n",
    "from sklearn.ensemble import RandomForestClassifier\n",
    "#For training the model\n",
    "def train():\n",
    "    dataset = pd.read_csv('D:\\PRAVEEN\\Project\\diabetes2.csv')\n",
    "    X = dataset[[\"Pregnancies\",\"Glucose\",\"BloodPressure\",\"SkinThickness\",\"Insulin\",\"BMI\",\"DiabetesPedigreeFunction\",\"Age\"]]\n",
    "    Y = dataset[[\"Outcome\"]]\n",
    "   \n",
    "    \n",
    "    #train test split\n",
    "    X_train,X_test,Y_train,Y_test=train_test_split(X,Y,test_size=0.33)\n",
    "    \n",
    "\n",
    "    model = RandomForestClassifier(n_estimators=200)\n",
    "    svc=model.fit(X_train,Y_train)\n",
    "    \n",
    "    #Save Model As Pickle File\n",
    "    with open('svc.pkl','wb') as m:\n",
    "        pickle.dump(svc,m)\n",
    "    test(X_test,Y_test)\n",
    "\n",
    "#Test accuracy of the model\n",
    "def test(X_test,Y_test):\n",
    "    with open('svc.pkl','rb') as mod:\n",
    "        p=pickle.load(mod)\n",
    "    \n",
    "    pre=p.predict(X_test)\n",
    "    print (accuracy_score(Y_test,pre)) #Prints the accuracy of the model\n",
    "\n",
    "\n",
    "def find_data_file(filename):\n",
    "    if getattr(sys, \"frozen\", False):\n",
    "        # The application is frozen.\n",
    "        datadir = os.path.dirname(sys.executable)\n",
    "    else:\n",
    "        # The application is not frozen.\n",
    "        datadir = os.path.dirname(__file__)\n",
    "\n",
    "    return os.path.join(datadir, filename)\n",
    "\n",
    "\n",
    "def check_input(data) ->int :\n",
    "    df=pd.DataFrame(data=data,index=[0])\n",
    "    with open(find_data_file('svc.pkl'),'rb') as model:\n",
    "        p=pickle.load(model)\n",
    "    op=p.predict(df)\n",
    "    return op[0]\n",
    "if __name__=='__main__':\n",
    "    train()    \n"
   ]
  },
  {
   "cell_type": "code",
   "execution_count": null,
   "id": "85edcedb",
   "metadata": {},
   "outputs": [],
   "source": []
  }
 ],
 "metadata": {
  "kernelspec": {
   "display_name": "Python 3 (ipykernel)",
   "language": "python",
   "name": "python3"
  },
  "language_info": {
   "codemirror_mode": {
    "name": "ipython",
    "version": 3
   },
   "file_extension": ".py",
   "mimetype": "text/x-python",
   "name": "python",
   "nbconvert_exporter": "python",
   "pygments_lexer": "ipython3",
   "version": "3.9.12"
  }
 },
 "nbformat": 4,
 "nbformat_minor": 5
}
